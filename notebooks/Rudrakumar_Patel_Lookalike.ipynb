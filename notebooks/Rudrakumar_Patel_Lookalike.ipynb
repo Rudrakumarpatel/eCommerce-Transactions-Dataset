{
 "cells": [
  {
   "cell_type": "code",
   "execution_count": 1,
   "metadata": {},
   "outputs": [
    {
     "name": "stdout",
     "output_type": "stream",
     "text": [
      "Merged Data Columns: Index(['TransactionID', 'CustomerID', 'ProductID', 'TransactionDate',\n",
      "       'Quantity', 'TotalValue', 'Price_x', 'CustomerName', 'Region',\n",
      "       'SignupDate', 'ProductName', 'Category', 'Price_y'],\n",
      "      dtype='object')\n"
     ]
    }
   ],
   "source": [
    "# Import Libraries\n",
    "import pandas as pd\n",
    "from sklearn.metrics.pairwise import cosine_similarity\n",
    "from sklearn.preprocessing import StandardScaler\n",
    "\n",
    "# Load datasets\n",
    "customers = pd.read_csv(\"../data/Customers.csv\")\n",
    "products = pd.read_csv(\"../data/Products.csv\")\n",
    "transactions = pd.read_csv(\"../data/Transactions.csv\")\n",
    "\n",
    "# Merge datasets\n",
    "data = transactions.merge(customers, on=\"CustomerID\").merge(products, on=\"ProductID\")\n",
    "\n",
    "# Inspect the merged data columns\n",
    "print(\"Merged Data Columns:\", data.columns)\n",
    "\n",
    "# If 'Price' is renamed to something like 'Price_x' or 'Price_y', use the correct column name\n",
    "# Here, let's assume 'Price_y' is the correct 'Price' column\n",
    "data['TotalTransactionValue'] = data['Quantity'] * data['Price_y']  # Use the correct 'Price_y' column\n",
    "\n",
    "# Feature engineering for customers\n",
    "customer_features = data.groupby('CustomerID').agg({\n",
    "    'TotalTransactionValue': 'sum',\n",
    "    'Quantity': 'sum',\n",
    "    'Price_y': 'mean'  # Update this to 'Price_x' or 'Price_y' after inspecting merged data\n",
    "}).reset_index()\n",
    "\n",
    "# Normalize features\n",
    "scaler = StandardScaler()\n",
    "normalized_features = scaler.fit_transform(customer_features.iloc[:, 1:])\n",
    "\n",
    "# Compute similarity\n",
    "similarity_matrix = cosine_similarity(normalized_features)\n",
    "similarity_df = pd.DataFrame(similarity_matrix, index=customer_features['CustomerID'], columns=customer_features['CustomerID'])\n",
    "\n",
    "# Get top-3 similar customers for the first 20 customers\n",
    "lookalikes = {}\n",
    "for customer in customer_features['CustomerID'][:20]:\n",
    "    similar_customers = similarity_df[customer].sort_values(ascending=False)[1:4]\n",
    "    lookalikes[customer] = list(zip(similar_customers.index, similar_customers.values))\n",
    "\n",
    "# Export to CSV\n",
    "lookalike_df = pd.DataFrame([(key, val[0], val[1]) for key, lst in lookalikes.items() for val in lst],\n",
    "                            columns=[\"CustomerID\", \"SimilarCustomerID\", \"SimilarityScore\"])\n",
    "lookalike_df.to_csv(\"../outputs/Rudrakumar_Patel_Lookalike.csv\", index=False)\n"
   ]
  }
 ],
 "metadata": {
  "kernelspec": {
   "display_name": "Python 3",
   "language": "python",
   "name": "python3"
  },
  "language_info": {
   "codemirror_mode": {
    "name": "ipython",
    "version": 3
   },
   "file_extension": ".py",
   "mimetype": "text/x-python",
   "name": "python",
   "nbconvert_exporter": "python",
   "pygments_lexer": "ipython3",
   "version": "3.13.1"
  }
 },
 "nbformat": 4,
 "nbformat_minor": 2
}
